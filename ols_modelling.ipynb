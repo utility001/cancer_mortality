{
 "cells": [
  {
   "cell_type": "code",
   "execution_count": 1,
   "id": "83ae0511-9c17-43e4-ada6-a688a5983439",
   "metadata": {},
   "outputs": [],
   "source": [
    "# Imports\n",
    "\n",
    "import pandas as pd\n",
    "import numpy as np\n",
    "import matplotlib.pyplot as plt\n",
    "import scipy.stats as stats\n",
    "import seaborn as sns\n",
    "\n",
    "from sklearn.pipeline import Pipeline, make_pipeline\n",
    "from sklearn.impute import SimpleImputer\n",
    "from sklearn.preprocessing import StandardScaler, OneHotEncoder, FunctionTransformer\n",
    "from sklearn.compose import ColumnTransformer\n",
    "from sklearn.linear_model import Lasso, LinearRegression, Ridge, LassoCV"
   ]
  },
  {
   "cell_type": "markdown",
   "id": "f3c72c2b-5141-41c3-9b14-57451808a9be",
   "metadata": {
    "jp-MarkdownHeadingCollapsed": true
   },
   "source": [
    "### ingest"
   ]
  },
  {
   "cell_type": "code",
   "execution_count": 2,
   "id": "881ffed4-1534-4f6a-bd9e-b82f0ea6823a",
   "metadata": {},
   "outputs": [],
   "source": [
    "from wrangle import split_data"
   ]
  },
  {
   "cell_type": "code",
   "execution_count": 3,
   "id": "96aa76a9-939f-43d1-9609-41f90045d2a7",
   "metadata": {},
   "outputs": [
    {
     "data": {
      "text/plain": [
       "((2437, 34), (610, 34))"
      ]
     },
     "execution_count": 3,
     "metadata": {},
     "output_type": "execute_result"
    }
   ],
   "source": [
    "# Split the data into train and test set\n",
    "train, test = split_data()\n",
    "train.shape, test.shape"
   ]
  },
  {
   "cell_type": "code",
   "execution_count": 4,
   "id": "f1e88590-0284-4dc7-8986-5e9d5c43add1",
   "metadata": {},
   "outputs": [],
   "source": [
    "from wrangle import train_outlier_capping"
   ]
  },
  {
   "cell_type": "code",
   "execution_count": 5,
   "id": "984e9873-8603-42ce-b50f-25f226c70de6",
   "metadata": {},
   "outputs": [
    {
     "data": {
      "text/plain": [
       "(2437, 34)"
      ]
     },
     "execution_count": 5,
     "metadata": {},
     "output_type": "execute_result"
    }
   ],
   "source": [
    "# perform outlier capping on the train data\n",
    "train = train_outlier_capping(train)\n",
    "train.shape"
   ]
  },
  {
   "cell_type": "code",
   "execution_count": 6,
   "id": "b24269df-4506-4e60-b586-41016b9936bf",
   "metadata": {},
   "outputs": [],
   "source": [
    "from wrangle import cat_transform"
   ]
  },
  {
   "cell_type": "code",
   "execution_count": 7,
   "id": "0ede8939-0a0d-485e-a37c-a6cb481be370",
   "metadata": {},
   "outputs": [
    {
     "data": {
      "text/plain": [
       "((2437, 34), (610, 34))"
      ]
     },
     "execution_count": 7,
     "metadata": {},
     "output_type": "execute_result"
    }
   ],
   "source": [
    "# Perform Categorical transformation\n",
    "train = cat_transform(train)\n",
    "test = cat_transform(test)\n",
    "train.shape, test.shape"
   ]
  },
  {
   "cell_type": "code",
   "execution_count": 8,
   "id": "e81474c3-8675-47b7-9f4a-a0f145f57ad2",
   "metadata": {},
   "outputs": [
    {
     "data": {
      "text/html": [
       "<div>\n",
       "<style scoped>\n",
       "    .dataframe tbody tr th:only-of-type {\n",
       "        vertical-align: middle;\n",
       "    }\n",
       "\n",
       "    .dataframe tbody tr th {\n",
       "        vertical-align: top;\n",
       "    }\n",
       "\n",
       "    .dataframe thead th {\n",
       "        text-align: right;\n",
       "    }\n",
       "</style>\n",
       "<table border=\"1\" class=\"dataframe\">\n",
       "  <thead>\n",
       "    <tr style=\"text-align: right;\">\n",
       "      <th></th>\n",
       "      <th>avgAnnCount</th>\n",
       "      <th>avgDeathsPerYear</th>\n",
       "      <th>TARGET_deathRate</th>\n",
       "      <th>incidenceRate</th>\n",
       "      <th>medIncome</th>\n",
       "      <th>popEst2015</th>\n",
       "      <th>povertyPercent</th>\n",
       "      <th>studyPerCap</th>\n",
       "      <th>binnedInc</th>\n",
       "      <th>MedianAge</th>\n",
       "      <th>...</th>\n",
       "      <th>PctEmpPrivCoverage</th>\n",
       "      <th>PctPublicCoverage</th>\n",
       "      <th>PctPublicCoverageAlone</th>\n",
       "      <th>PctWhite</th>\n",
       "      <th>PctBlack</th>\n",
       "      <th>PctAsian</th>\n",
       "      <th>PctOtherRace</th>\n",
       "      <th>PctMarriedHouseholds</th>\n",
       "      <th>BirthRate</th>\n",
       "      <th>state</th>\n",
       "    </tr>\n",
       "  </thead>\n",
       "  <tbody>\n",
       "    <tr>\n",
       "      <th>2830</th>\n",
       "      <td>114.0</td>\n",
       "      <td>41</td>\n",
       "      <td>137.1</td>\n",
       "      <td>403.8</td>\n",
       "      <td>47363</td>\n",
       "      <td>22702</td>\n",
       "      <td>13.8</td>\n",
       "      <td>0.0</td>\n",
       "      <td>6</td>\n",
       "      <td>40.8</td>\n",
       "      <td>...</td>\n",
       "      <td>46.8</td>\n",
       "      <td>31.6</td>\n",
       "      <td>13.0</td>\n",
       "      <td>92.295459</td>\n",
       "      <td>2.102845</td>\n",
       "      <td>0.609648</td>\n",
       "      <td>0.879131</td>\n",
       "      <td>50.949545</td>\n",
       "      <td>6.329661</td>\n",
       "      <td>South Dakota</td>\n",
       "    </tr>\n",
       "    <tr>\n",
       "      <th>1188</th>\n",
       "      <td>33.0</td>\n",
       "      <td>11</td>\n",
       "      <td>126.9</td>\n",
       "      <td>352.0</td>\n",
       "      <td>72610</td>\n",
       "      <td>9899</td>\n",
       "      <td>6.8</td>\n",
       "      <td>0.0</td>\n",
       "      <td>10</td>\n",
       "      <td>38.1</td>\n",
       "      <td>...</td>\n",
       "      <td>54.3</td>\n",
       "      <td>18.2</td>\n",
       "      <td>8.6</td>\n",
       "      <td>95.690422</td>\n",
       "      <td>0.000000</td>\n",
       "      <td>0.523871</td>\n",
       "      <td>0.118612</td>\n",
       "      <td>64.532156</td>\n",
       "      <td>5.148130</td>\n",
       "      <td>Wyoming</td>\n",
       "    </tr>\n",
       "    <tr>\n",
       "      <th>887</th>\n",
       "      <td>254.0</td>\n",
       "      <td>100</td>\n",
       "      <td>173.8</td>\n",
       "      <td>429.6</td>\n",
       "      <td>72610</td>\n",
       "      <td>48904</td>\n",
       "      <td>7.5</td>\n",
       "      <td>0.0</td>\n",
       "      <td>10</td>\n",
       "      <td>43.5</td>\n",
       "      <td>...</td>\n",
       "      <td>55.6</td>\n",
       "      <td>28.8</td>\n",
       "      <td>13.5</td>\n",
       "      <td>89.606996</td>\n",
       "      <td>7.407407</td>\n",
       "      <td>0.870370</td>\n",
       "      <td>0.450617</td>\n",
       "      <td>62.344481</td>\n",
       "      <td>5.627462</td>\n",
       "      <td>Maryland</td>\n",
       "    </tr>\n",
       "    <tr>\n",
       "      <th>1924</th>\n",
       "      <td>75.0</td>\n",
       "      <td>32</td>\n",
       "      <td>179.8</td>\n",
       "      <td>407.5</td>\n",
       "      <td>42839</td>\n",
       "      <td>22255</td>\n",
       "      <td>14.6</td>\n",
       "      <td>0.0</td>\n",
       "      <td>5</td>\n",
       "      <td>31.1</td>\n",
       "      <td>...</td>\n",
       "      <td>46.5</td>\n",
       "      <td>26.8</td>\n",
       "      <td>18.1</td>\n",
       "      <td>79.587990</td>\n",
       "      <td>2.948701</td>\n",
       "      <td>2.629799</td>\n",
       "      <td>5.104181</td>\n",
       "      <td>63.005948</td>\n",
       "      <td>9.335580</td>\n",
       "      <td>Texas</td>\n",
       "    </tr>\n",
       "    <tr>\n",
       "      <th>2921</th>\n",
       "      <td>110.0</td>\n",
       "      <td>54</td>\n",
       "      <td>230.3</td>\n",
       "      <td>502.9</td>\n",
       "      <td>46927</td>\n",
       "      <td>14327</td>\n",
       "      <td>14.1</td>\n",
       "      <td>0.0</td>\n",
       "      <td>6</td>\n",
       "      <td>44.5</td>\n",
       "      <td>...</td>\n",
       "      <td>42.5</td>\n",
       "      <td>42.4</td>\n",
       "      <td>23.1</td>\n",
       "      <td>98.174779</td>\n",
       "      <td>0.400996</td>\n",
       "      <td>0.373341</td>\n",
       "      <td>0.013827</td>\n",
       "      <td>54.140334</td>\n",
       "      <td>4.019074</td>\n",
       "      <td>Illinois</td>\n",
       "    </tr>\n",
       "  </tbody>\n",
       "</table>\n",
       "<p>5 rows × 34 columns</p>\n",
       "</div>"
      ],
      "text/plain": [
       "      avgAnnCount  avgDeathsPerYear  TARGET_deathRate  incidenceRate  \\\n",
       "2830        114.0                41             137.1          403.8   \n",
       "1188         33.0                11             126.9          352.0   \n",
       "887         254.0               100             173.8          429.6   \n",
       "1924         75.0                32             179.8          407.5   \n",
       "2921        110.0                54             230.3          502.9   \n",
       "\n",
       "      medIncome  popEst2015  povertyPercent  studyPerCap  binnedInc  \\\n",
       "2830      47363       22702            13.8          0.0          6   \n",
       "1188      72610        9899             6.8          0.0         10   \n",
       "887       72610       48904             7.5          0.0         10   \n",
       "1924      42839       22255            14.6          0.0          5   \n",
       "2921      46927       14327            14.1          0.0          6   \n",
       "\n",
       "      MedianAge  ...  PctEmpPrivCoverage  PctPublicCoverage  \\\n",
       "2830       40.8  ...                46.8               31.6   \n",
       "1188       38.1  ...                54.3               18.2   \n",
       "887        43.5  ...                55.6               28.8   \n",
       "1924       31.1  ...                46.5               26.8   \n",
       "2921       44.5  ...                42.5               42.4   \n",
       "\n",
       "      PctPublicCoverageAlone   PctWhite  PctBlack  PctAsian  PctOtherRace  \\\n",
       "2830                    13.0  92.295459  2.102845  0.609648      0.879131   \n",
       "1188                     8.6  95.690422  0.000000  0.523871      0.118612   \n",
       "887                     13.5  89.606996  7.407407  0.870370      0.450617   \n",
       "1924                    18.1  79.587990  2.948701  2.629799      5.104181   \n",
       "2921                    23.1  98.174779  0.400996  0.373341      0.013827   \n",
       "\n",
       "      PctMarriedHouseholds  BirthRate         state  \n",
       "2830             50.949545   6.329661  South Dakota  \n",
       "1188             64.532156   5.148130       Wyoming  \n",
       "887              62.344481   5.627462      Maryland  \n",
       "1924             63.005948   9.335580         Texas  \n",
       "2921             54.140334   4.019074      Illinois  \n",
       "\n",
       "[5 rows x 34 columns]"
      ]
     },
     "execution_count": 8,
     "metadata": {},
     "output_type": "execute_result"
    }
   ],
   "source": [
    "train.head()"
   ]
  },
  {
   "cell_type": "code",
   "execution_count": 9,
   "id": "cd73cff0-f925-4a3b-b28b-65b808ae689b",
   "metadata": {},
   "outputs": [
    {
     "data": {
      "text/plain": [
       "float64    29\n",
       "int64       4\n",
       "object      1\n",
       "Name: count, dtype: int64"
      ]
     },
     "execution_count": 9,
     "metadata": {},
     "output_type": "execute_result"
    }
   ],
   "source": [
    "train.dtypes.value_counts()"
   ]
  },
  {
   "cell_type": "markdown",
   "id": "b7e0b1f2-a7f1-4e96-b9a1-15aafe7f11bf",
   "metadata": {},
   "source": [
    "split into feature and label"
   ]
  },
  {
   "cell_type": "code",
   "execution_count": 10,
   "id": "44f0f7d4-889f-4048-8b93-2ddc247333cb",
   "metadata": {},
   "outputs": [],
   "source": [
    "# Create a function to split the data into feature and label\n",
    "def feat_label_split(df):\n",
    "    target = \"TARGET_deathRate\"\n",
    "\n",
    "    feature = df.drop(columns=[target])\n",
    "    label = df[target]\n",
    "    \n",
    "    return feature, label"
   ]
  },
  {
   "cell_type": "code",
   "execution_count": 11,
   "id": "ecca622b-c089-4acb-9a42-0e180d63173a",
   "metadata": {},
   "outputs": [],
   "source": [
    "# split the data\n",
    "X_train, y_train = feat_label_split(train)\n",
    "# split test data\n",
    "X_test, y_test = feat_label_split(test)"
   ]
  },
  {
   "cell_type": "code",
   "execution_count": 12,
   "id": "4a8662f4-3843-4ae6-ada6-a2ba9b7a5672",
   "metadata": {},
   "outputs": [
    {
     "data": {
      "text/plain": [
       "((2437, 33), (610, 33))"
      ]
     },
     "execution_count": 12,
     "metadata": {},
     "output_type": "execute_result"
    }
   ],
   "source": [
    "# Verify their shape\n",
    "X_train.shape, X_test.shape"
   ]
  },
  {
   "cell_type": "code",
   "execution_count": 13,
   "id": "28d71f98-08aa-478b-a586-adb4db14c603",
   "metadata": {},
   "outputs": [
    {
     "data": {
      "text/plain": [
       "((2437,), (610,))"
      ]
     },
     "execution_count": 13,
     "metadata": {},
     "output_type": "execute_result"
    }
   ],
   "source": [
    "y_train.shape, y_test.shape"
   ]
  },
  {
   "cell_type": "markdown",
   "id": "ea4ad993-6c96-459d-86b6-0ca215b99c7f",
   "metadata": {
    "jp-MarkdownHeadingCollapsed": true
   },
   "source": [
    "### Preprocessing"
   ]
  },
  {
   "cell_type": "markdown",
   "id": "092608fb-081c-40d1-af9d-59ff2ea56608",
   "metadata": {},
   "source": [
    "Perform standard scaling on the numeric columns, simple imputer with mean    \n",
    "perform one hot encoding on the categoricals"
   ]
  },
  {
   "cell_type": "code",
   "execution_count": 14,
   "id": "4f5c281e-8e0d-47e0-8895-0e8dc9d46fdd",
   "metadata": {},
   "outputs": [],
   "source": [
    "# log_transformer = FunctionTransformer(np.log1p, validate=False, feature_names_out = 'one-to-one')\n",
    "# sqrt_transformer = FunctionTransformer(np.sqrt, validate=False, feature_names_out = 'one-to-one')"
   ]
  },
  {
   "cell_type": "code",
   "execution_count": 15,
   "id": "cc8a4787-2493-4b76-85fa-3bade5c62da5",
   "metadata": {},
   "outputs": [],
   "source": [
    "num_pipeline = Pipeline([\n",
    "    ('num_impute', SimpleImputer(strategy='mean')),\n",
    "    # ('sqrt', sqrt_transformer),\n",
    "    ('scaler', StandardScaler())\n",
    "])"
   ]
  },
  {
   "cell_type": "code",
   "execution_count": 16,
   "id": "97e140ac-5ac4-4910-8ce7-16453913d544",
   "metadata": {},
   "outputs": [],
   "source": [
    "cat_pipeline = Pipeline([\n",
    "    ('cat_impute', SimpleImputer(strategy='most_frequent')),\n",
    "    ('ohe', OneHotEncoder(handle_unknown=\"ignore\"))\n",
    "])"
   ]
  },
  {
   "cell_type": "code",
   "execution_count": 17,
   "id": "3828e768-05b7-406d-9f03-e573866c46b1",
   "metadata": {},
   "outputs": [
    {
     "data": {
      "text/plain": [
       "((32,), (1,))"
      ]
     },
     "execution_count": 17,
     "metadata": {},
     "output_type": "execute_result"
    }
   ],
   "source": [
    "# Get the names of the numeric and categorical columns\n",
    "num_cols = X_train.select_dtypes(include=('number')).columns\n",
    "cat_cols = X_train.select_dtypes(include=('object')).columns\n",
    "num_cols.shape, cat_cols.shape"
   ]
  },
  {
   "cell_type": "code",
   "execution_count": 18,
   "id": "8a72ac53-7b20-4167-912a-575692ce26de",
   "metadata": {},
   "outputs": [],
   "source": [
    "assert len(num_cols) + len(cat_cols) == len(X_train.columns), \"Check again\""
   ]
  },
  {
   "cell_type": "code",
   "execution_count": 19,
   "id": "6f41fbe0-463a-460c-850f-99dd9439a817",
   "metadata": {},
   "outputs": [],
   "source": [
    "# Preprocessing pipeline\n",
    "preprocessing = ColumnTransformer([\n",
    "    ('cat', cat_pipeline, cat_cols),\n",
    "    ('num', num_pipeline, num_cols)\n",
    "], sparse_threshold=0)"
   ]
  },
  {
   "cell_type": "code",
   "execution_count": 20,
   "id": "d46ae601-614a-4d2f-bd5f-2d6bca7c57f1",
   "metadata": {},
   "outputs": [
    {
     "data": {
      "text/plain": [
       "(2437, 83)"
      ]
     },
     "execution_count": 20,
     "metadata": {},
     "output_type": "execute_result"
    }
   ],
   "source": [
    "# Test the preprocessing pipeline on the train data\n",
    "X_train_transformed = preprocessing.fit_transform(X_train)\n",
    "X_train_transformed.shape"
   ]
  },
  {
   "cell_type": "markdown",
   "id": "16d30322-05a8-4a62-b98c-ab4477c5910a",
   "metadata": {},
   "source": [
    "We're at 83 columns"
   ]
  },
  {
   "cell_type": "markdown",
   "id": "5ffb3f46-f0ef-40a5-b225-4b98d6a32fe9",
   "metadata": {
    "jp-MarkdownHeadingCollapsed": true
   },
   "source": [
    "### Feature selection using SeleckBest\n",
    "\n",
    "Use select k best for feature selection. "
   ]
  },
  {
   "cell_type": "code",
   "execution_count": 24,
   "id": "59922e63-5cf0-4058-bad3-cfe03f6e006d",
   "metadata": {},
   "outputs": [],
   "source": [
    "from sklearn.feature_selection import SelectKBest, f_regression"
   ]
  },
  {
   "cell_type": "code",
   "execution_count": 25,
   "id": "1c49be0b-234a-4458-bc7e-8f34a294a3d4",
   "metadata": {},
   "outputs": [],
   "source": [
    "# create a pipeline. combine the preprocessing steps and the training step\n",
    "k_best_pipe = Pipeline([\n",
    "    (\"prep\", preprocessing),\n",
    "    (\"feat_sel\", SelectKBest(score_func=f_regression ,k=10)),\n",
    "])"
   ]
  },
  {
   "cell_type": "code",
   "execution_count": 26,
   "id": "35438eb2-e0ce-450c-b7f6-9245133e3cc8",
   "metadata": {},
   "outputs": [],
   "source": [
    "# f_regression?"
   ]
  },
  {
   "cell_type": "markdown",
   "id": "c7fa1000-7de8-4c77-a3c4-ab5d3e4ca5e3",
   "metadata": {},
   "source": [
    "What is f_regression\n",
    "\n",
    "F regression performs univariate linear regression tests returning F-statistic and p-values.  \n",
    "It assesses wheter there is a significant relationship between each featue and the target when considered independent of other feature\n",
    "\n",
    "The p value measuers the probability of obtaining the observed F-value if there is actually no relationship between the feature and the target."
   ]
  },
  {
   "cell_type": "code",
   "execution_count": 27,
   "id": "636cc3d4-be16-4bb2-b79f-f523c525853e",
   "metadata": {},
   "outputs": [
    {
     "data": {
      "text/html": [
       "<style>#sk-container-id-1 {color: black;}#sk-container-id-1 pre{padding: 0;}#sk-container-id-1 div.sk-toggleable {background-color: white;}#sk-container-id-1 label.sk-toggleable__label {cursor: pointer;display: block;width: 100%;margin-bottom: 0;padding: 0.3em;box-sizing: border-box;text-align: center;}#sk-container-id-1 label.sk-toggleable__label-arrow:before {content: \"▸\";float: left;margin-right: 0.25em;color: #696969;}#sk-container-id-1 label.sk-toggleable__label-arrow:hover:before {color: black;}#sk-container-id-1 div.sk-estimator:hover label.sk-toggleable__label-arrow:before {color: black;}#sk-container-id-1 div.sk-toggleable__content {max-height: 0;max-width: 0;overflow: hidden;text-align: left;background-color: #f0f8ff;}#sk-container-id-1 div.sk-toggleable__content pre {margin: 0.2em;color: black;border-radius: 0.25em;background-color: #f0f8ff;}#sk-container-id-1 input.sk-toggleable__control:checked~div.sk-toggleable__content {max-height: 200px;max-width: 100%;overflow: auto;}#sk-container-id-1 input.sk-toggleable__control:checked~label.sk-toggleable__label-arrow:before {content: \"▾\";}#sk-container-id-1 div.sk-estimator input.sk-toggleable__control:checked~label.sk-toggleable__label {background-color: #d4ebff;}#sk-container-id-1 div.sk-label input.sk-toggleable__control:checked~label.sk-toggleable__label {background-color: #d4ebff;}#sk-container-id-1 input.sk-hidden--visually {border: 0;clip: rect(1px 1px 1px 1px);clip: rect(1px, 1px, 1px, 1px);height: 1px;margin: -1px;overflow: hidden;padding: 0;position: absolute;width: 1px;}#sk-container-id-1 div.sk-estimator {font-family: monospace;background-color: #f0f8ff;border: 1px dotted black;border-radius: 0.25em;box-sizing: border-box;margin-bottom: 0.5em;}#sk-container-id-1 div.sk-estimator:hover {background-color: #d4ebff;}#sk-container-id-1 div.sk-parallel-item::after {content: \"\";width: 100%;border-bottom: 1px solid gray;flex-grow: 1;}#sk-container-id-1 div.sk-label:hover label.sk-toggleable__label {background-color: #d4ebff;}#sk-container-id-1 div.sk-serial::before {content: \"\";position: absolute;border-left: 1px solid gray;box-sizing: border-box;top: 0;bottom: 0;left: 50%;z-index: 0;}#sk-container-id-1 div.sk-serial {display: flex;flex-direction: column;align-items: center;background-color: white;padding-right: 0.2em;padding-left: 0.2em;position: relative;}#sk-container-id-1 div.sk-item {position: relative;z-index: 1;}#sk-container-id-1 div.sk-parallel {display: flex;align-items: stretch;justify-content: center;background-color: white;position: relative;}#sk-container-id-1 div.sk-item::before, #sk-container-id-1 div.sk-parallel-item::before {content: \"\";position: absolute;border-left: 1px solid gray;box-sizing: border-box;top: 0;bottom: 0;left: 50%;z-index: -1;}#sk-container-id-1 div.sk-parallel-item {display: flex;flex-direction: column;z-index: 1;position: relative;background-color: white;}#sk-container-id-1 div.sk-parallel-item:first-child::after {align-self: flex-end;width: 50%;}#sk-container-id-1 div.sk-parallel-item:last-child::after {align-self: flex-start;width: 50%;}#sk-container-id-1 div.sk-parallel-item:only-child::after {width: 0;}#sk-container-id-1 div.sk-dashed-wrapped {border: 1px dashed gray;margin: 0 0.4em 0.5em 0.4em;box-sizing: border-box;padding-bottom: 0.4em;background-color: white;}#sk-container-id-1 div.sk-label label {font-family: monospace;font-weight: bold;display: inline-block;line-height: 1.2em;}#sk-container-id-1 div.sk-label-container {text-align: center;}#sk-container-id-1 div.sk-container {/* jupyter's `normalize.less` sets `[hidden] { display: none; }` but bootstrap.min.css set `[hidden] { display: none !important; }` so we also need the `!important` here to be able to override the default hidden behavior on the sphinx rendered scikit-learn.org. See: https://github.com/scikit-learn/scikit-learn/issues/21755 */display: inline-block !important;position: relative;}#sk-container-id-1 div.sk-text-repr-fallback {display: none;}</style><div id=\"sk-container-id-1\" class=\"sk-top-container\"><div class=\"sk-text-repr-fallback\"><pre>Pipeline(steps=[(&#x27;prep&#x27;,\n",
       "                 ColumnTransformer(sparse_threshold=0,\n",
       "                                   transformers=[(&#x27;cat&#x27;,\n",
       "                                                  Pipeline(steps=[(&#x27;cat_impute&#x27;,\n",
       "                                                                   SimpleImputer(strategy=&#x27;most_frequent&#x27;)),\n",
       "                                                                  (&#x27;ohe&#x27;,\n",
       "                                                                   OneHotEncoder(handle_unknown=&#x27;ignore&#x27;))]),\n",
       "                                                  Index([&#x27;state&#x27;], dtype=&#x27;object&#x27;)),\n",
       "                                                 (&#x27;num&#x27;,\n",
       "                                                  Pipeline(steps=[(&#x27;num_impute&#x27;,\n",
       "                                                                   SimpleImputer()),\n",
       "                                                                  (&#x27;scaler&#x27;,\n",
       "                                                                   StandardScaler())]),\n",
       "                                                  Index([&#x27;avgAnnCount&#x27;, &#x27;avgDeaths...\n",
       "       &#x27;PctBachDeg18_24&#x27;, &#x27;PctHS25_Over&#x27;, &#x27;PctBachDeg25_Over&#x27;,\n",
       "       &#x27;PctEmployed16_Over&#x27;, &#x27;PctUnemployed16_Over&#x27;, &#x27;PctPrivateCoverage&#x27;,\n",
       "       &#x27;PctPrivateCoverageAlone&#x27;, &#x27;PctEmpPrivCoverage&#x27;, &#x27;PctPublicCoverage&#x27;,\n",
       "       &#x27;PctPublicCoverageAlone&#x27;, &#x27;PctWhite&#x27;, &#x27;PctBlack&#x27;, &#x27;PctAsian&#x27;,\n",
       "       &#x27;PctOtherRace&#x27;, &#x27;PctMarriedHouseholds&#x27;, &#x27;BirthRate&#x27;],\n",
       "      dtype=&#x27;object&#x27;))])),\n",
       "                (&#x27;feat_sel&#x27;,\n",
       "                 SelectKBest(score_func=&lt;function f_regression at 0x7f343e631e10&gt;))])</pre><b>In a Jupyter environment, please rerun this cell to show the HTML representation or trust the notebook. <br />On GitHub, the HTML representation is unable to render, please try loading this page with nbviewer.org.</b></div><div class=\"sk-container\" hidden><div class=\"sk-item sk-dashed-wrapped\"><div class=\"sk-label-container\"><div class=\"sk-label sk-toggleable\"><input class=\"sk-toggleable__control sk-hidden--visually\" id=\"sk-estimator-id-1\" type=\"checkbox\" ><label for=\"sk-estimator-id-1\" class=\"sk-toggleable__label sk-toggleable__label-arrow\">Pipeline</label><div class=\"sk-toggleable__content\"><pre>Pipeline(steps=[(&#x27;prep&#x27;,\n",
       "                 ColumnTransformer(sparse_threshold=0,\n",
       "                                   transformers=[(&#x27;cat&#x27;,\n",
       "                                                  Pipeline(steps=[(&#x27;cat_impute&#x27;,\n",
       "                                                                   SimpleImputer(strategy=&#x27;most_frequent&#x27;)),\n",
       "                                                                  (&#x27;ohe&#x27;,\n",
       "                                                                   OneHotEncoder(handle_unknown=&#x27;ignore&#x27;))]),\n",
       "                                                  Index([&#x27;state&#x27;], dtype=&#x27;object&#x27;)),\n",
       "                                                 (&#x27;num&#x27;,\n",
       "                                                  Pipeline(steps=[(&#x27;num_impute&#x27;,\n",
       "                                                                   SimpleImputer()),\n",
       "                                                                  (&#x27;scaler&#x27;,\n",
       "                                                                   StandardScaler())]),\n",
       "                                                  Index([&#x27;avgAnnCount&#x27;, &#x27;avgDeaths...\n",
       "       &#x27;PctBachDeg18_24&#x27;, &#x27;PctHS25_Over&#x27;, &#x27;PctBachDeg25_Over&#x27;,\n",
       "       &#x27;PctEmployed16_Over&#x27;, &#x27;PctUnemployed16_Over&#x27;, &#x27;PctPrivateCoverage&#x27;,\n",
       "       &#x27;PctPrivateCoverageAlone&#x27;, &#x27;PctEmpPrivCoverage&#x27;, &#x27;PctPublicCoverage&#x27;,\n",
       "       &#x27;PctPublicCoverageAlone&#x27;, &#x27;PctWhite&#x27;, &#x27;PctBlack&#x27;, &#x27;PctAsian&#x27;,\n",
       "       &#x27;PctOtherRace&#x27;, &#x27;PctMarriedHouseholds&#x27;, &#x27;BirthRate&#x27;],\n",
       "      dtype=&#x27;object&#x27;))])),\n",
       "                (&#x27;feat_sel&#x27;,\n",
       "                 SelectKBest(score_func=&lt;function f_regression at 0x7f343e631e10&gt;))])</pre></div></div></div><div class=\"sk-serial\"><div class=\"sk-item sk-dashed-wrapped\"><div class=\"sk-label-container\"><div class=\"sk-label sk-toggleable\"><input class=\"sk-toggleable__control sk-hidden--visually\" id=\"sk-estimator-id-2\" type=\"checkbox\" ><label for=\"sk-estimator-id-2\" class=\"sk-toggleable__label sk-toggleable__label-arrow\">prep: ColumnTransformer</label><div class=\"sk-toggleable__content\"><pre>ColumnTransformer(sparse_threshold=0,\n",
       "                  transformers=[(&#x27;cat&#x27;,\n",
       "                                 Pipeline(steps=[(&#x27;cat_impute&#x27;,\n",
       "                                                  SimpleImputer(strategy=&#x27;most_frequent&#x27;)),\n",
       "                                                 (&#x27;ohe&#x27;,\n",
       "                                                  OneHotEncoder(handle_unknown=&#x27;ignore&#x27;))]),\n",
       "                                 Index([&#x27;state&#x27;], dtype=&#x27;object&#x27;)),\n",
       "                                (&#x27;num&#x27;,\n",
       "                                 Pipeline(steps=[(&#x27;num_impute&#x27;,\n",
       "                                                  SimpleImputer()),\n",
       "                                                 (&#x27;scaler&#x27;, StandardScaler())]),\n",
       "                                 Index([&#x27;avgAnnCount&#x27;, &#x27;avgDeathsPerYear&#x27;, &#x27;incidenceRate&#x27;...\n",
       "       &#x27;PercentMarried&#x27;, &#x27;PctNoHS18_24&#x27;, &#x27;PctHS18_24&#x27;, &#x27;PctSomeCol18_24&#x27;,\n",
       "       &#x27;PctBachDeg18_24&#x27;, &#x27;PctHS25_Over&#x27;, &#x27;PctBachDeg25_Over&#x27;,\n",
       "       &#x27;PctEmployed16_Over&#x27;, &#x27;PctUnemployed16_Over&#x27;, &#x27;PctPrivateCoverage&#x27;,\n",
       "       &#x27;PctPrivateCoverageAlone&#x27;, &#x27;PctEmpPrivCoverage&#x27;, &#x27;PctPublicCoverage&#x27;,\n",
       "       &#x27;PctPublicCoverageAlone&#x27;, &#x27;PctWhite&#x27;, &#x27;PctBlack&#x27;, &#x27;PctAsian&#x27;,\n",
       "       &#x27;PctOtherRace&#x27;, &#x27;PctMarriedHouseholds&#x27;, &#x27;BirthRate&#x27;],\n",
       "      dtype=&#x27;object&#x27;))])</pre></div></div></div><div class=\"sk-parallel\"><div class=\"sk-parallel-item\"><div class=\"sk-item\"><div class=\"sk-label-container\"><div class=\"sk-label sk-toggleable\"><input class=\"sk-toggleable__control sk-hidden--visually\" id=\"sk-estimator-id-3\" type=\"checkbox\" ><label for=\"sk-estimator-id-3\" class=\"sk-toggleable__label sk-toggleable__label-arrow\">cat</label><div class=\"sk-toggleable__content\"><pre>Index([&#x27;state&#x27;], dtype=&#x27;object&#x27;)</pre></div></div></div><div class=\"sk-serial\"><div class=\"sk-item\"><div class=\"sk-serial\"><div class=\"sk-item\"><div class=\"sk-estimator sk-toggleable\"><input class=\"sk-toggleable__control sk-hidden--visually\" id=\"sk-estimator-id-4\" type=\"checkbox\" ><label for=\"sk-estimator-id-4\" class=\"sk-toggleable__label sk-toggleable__label-arrow\">SimpleImputer</label><div class=\"sk-toggleable__content\"><pre>SimpleImputer(strategy=&#x27;most_frequent&#x27;)</pre></div></div></div><div class=\"sk-item\"><div class=\"sk-estimator sk-toggleable\"><input class=\"sk-toggleable__control sk-hidden--visually\" id=\"sk-estimator-id-5\" type=\"checkbox\" ><label for=\"sk-estimator-id-5\" class=\"sk-toggleable__label sk-toggleable__label-arrow\">OneHotEncoder</label><div class=\"sk-toggleable__content\"><pre>OneHotEncoder(handle_unknown=&#x27;ignore&#x27;)</pre></div></div></div></div></div></div></div></div><div class=\"sk-parallel-item\"><div class=\"sk-item\"><div class=\"sk-label-container\"><div class=\"sk-label sk-toggleable\"><input class=\"sk-toggleable__control sk-hidden--visually\" id=\"sk-estimator-id-6\" type=\"checkbox\" ><label for=\"sk-estimator-id-6\" class=\"sk-toggleable__label sk-toggleable__label-arrow\">num</label><div class=\"sk-toggleable__content\"><pre>Index([&#x27;avgAnnCount&#x27;, &#x27;avgDeathsPerYear&#x27;, &#x27;incidenceRate&#x27;, &#x27;medIncome&#x27;,\n",
       "       &#x27;popEst2015&#x27;, &#x27;povertyPercent&#x27;, &#x27;studyPerCap&#x27;, &#x27;binnedInc&#x27;, &#x27;MedianAge&#x27;,\n",
       "       &#x27;MedianAgeMale&#x27;, &#x27;MedianAgeFemale&#x27;, &#x27;AvgHouseholdSize&#x27;,\n",
       "       &#x27;PercentMarried&#x27;, &#x27;PctNoHS18_24&#x27;, &#x27;PctHS18_24&#x27;, &#x27;PctSomeCol18_24&#x27;,\n",
       "       &#x27;PctBachDeg18_24&#x27;, &#x27;PctHS25_Over&#x27;, &#x27;PctBachDeg25_Over&#x27;,\n",
       "       &#x27;PctEmployed16_Over&#x27;, &#x27;PctUnemployed16_Over&#x27;, &#x27;PctPrivateCoverage&#x27;,\n",
       "       &#x27;PctPrivateCoverageAlone&#x27;, &#x27;PctEmpPrivCoverage&#x27;, &#x27;PctPublicCoverage&#x27;,\n",
       "       &#x27;PctPublicCoverageAlone&#x27;, &#x27;PctWhite&#x27;, &#x27;PctBlack&#x27;, &#x27;PctAsian&#x27;,\n",
       "       &#x27;PctOtherRace&#x27;, &#x27;PctMarriedHouseholds&#x27;, &#x27;BirthRate&#x27;],\n",
       "      dtype=&#x27;object&#x27;)</pre></div></div></div><div class=\"sk-serial\"><div class=\"sk-item\"><div class=\"sk-serial\"><div class=\"sk-item\"><div class=\"sk-estimator sk-toggleable\"><input class=\"sk-toggleable__control sk-hidden--visually\" id=\"sk-estimator-id-7\" type=\"checkbox\" ><label for=\"sk-estimator-id-7\" class=\"sk-toggleable__label sk-toggleable__label-arrow\">SimpleImputer</label><div class=\"sk-toggleable__content\"><pre>SimpleImputer()</pre></div></div></div><div class=\"sk-item\"><div class=\"sk-estimator sk-toggleable\"><input class=\"sk-toggleable__control sk-hidden--visually\" id=\"sk-estimator-id-8\" type=\"checkbox\" ><label for=\"sk-estimator-id-8\" class=\"sk-toggleable__label sk-toggleable__label-arrow\">StandardScaler</label><div class=\"sk-toggleable__content\"><pre>StandardScaler()</pre></div></div></div></div></div></div></div></div></div></div><div class=\"sk-item\"><div class=\"sk-estimator sk-toggleable\"><input class=\"sk-toggleable__control sk-hidden--visually\" id=\"sk-estimator-id-9\" type=\"checkbox\" ><label for=\"sk-estimator-id-9\" class=\"sk-toggleable__label sk-toggleable__label-arrow\">SelectKBest</label><div class=\"sk-toggleable__content\"><pre>SelectKBest(score_func=&lt;function f_regression at 0x7f343e631e10&gt;)</pre></div></div></div></div></div></div></div>"
      ],
      "text/plain": [
       "Pipeline(steps=[('prep',\n",
       "                 ColumnTransformer(sparse_threshold=0,\n",
       "                                   transformers=[('cat',\n",
       "                                                  Pipeline(steps=[('cat_impute',\n",
       "                                                                   SimpleImputer(strategy='most_frequent')),\n",
       "                                                                  ('ohe',\n",
       "                                                                   OneHotEncoder(handle_unknown='ignore'))]),\n",
       "                                                  Index(['state'], dtype='object')),\n",
       "                                                 ('num',\n",
       "                                                  Pipeline(steps=[('num_impute',\n",
       "                                                                   SimpleImputer()),\n",
       "                                                                  ('scaler',\n",
       "                                                                   StandardScaler())]),\n",
       "                                                  Index(['avgAnnCount', 'avgDeaths...\n",
       "       'PctBachDeg18_24', 'PctHS25_Over', 'PctBachDeg25_Over',\n",
       "       'PctEmployed16_Over', 'PctUnemployed16_Over', 'PctPrivateCoverage',\n",
       "       'PctPrivateCoverageAlone', 'PctEmpPrivCoverage', 'PctPublicCoverage',\n",
       "       'PctPublicCoverageAlone', 'PctWhite', 'PctBlack', 'PctAsian',\n",
       "       'PctOtherRace', 'PctMarriedHouseholds', 'BirthRate'],\n",
       "      dtype='object'))])),\n",
       "                ('feat_sel',\n",
       "                 SelectKBest(score_func=<function f_regression at 0x7f343e631e10>))])"
      ]
     },
     "execution_count": 27,
     "metadata": {},
     "output_type": "execute_result"
    }
   ],
   "source": [
    "# fit on X_train and y_train\n",
    "k_best_pipe.fit(X_train, y_train)"
   ]
  },
  {
   "cell_type": "code",
   "execution_count": 28,
   "id": "84e81d7d-8548-41ba-b5de-852da91e6575",
   "metadata": {},
   "outputs": [],
   "source": [
    "# Get the scores\n",
    "k_best_scores = k_best_pipe.named_steps['feat_sel'].scores_"
   ]
  },
  {
   "cell_type": "code",
   "execution_count": 29,
   "id": "af2c4567-8ee9-4dfd-9493-cacdad87ff62",
   "metadata": {},
   "outputs": [],
   "source": [
    "# p values\n",
    "k_best_p_values = k_best_pipe.named_steps['feat_sel'].pvalues_"
   ]
  },
  {
   "cell_type": "code",
   "execution_count": 30,
   "id": "207a52f2-36cf-458d-97d0-d9dc0bf05a39",
   "metadata": {},
   "outputs": [],
   "source": [
    "# Feature_names\n",
    "feat_names = k_best_pipe.named_steps['prep'].get_feature_names_out()"
   ]
  },
  {
   "cell_type": "code",
   "execution_count": 31,
   "id": "45a4b247-479d-4c25-baa3-e39efa3d2dda",
   "metadata": {},
   "outputs": [
    {
     "data": {
      "text/html": [
       "<div>\n",
       "<style scoped>\n",
       "    .dataframe tbody tr th:only-of-type {\n",
       "        vertical-align: middle;\n",
       "    }\n",
       "\n",
       "    .dataframe tbody tr th {\n",
       "        vertical-align: top;\n",
       "    }\n",
       "\n",
       "    .dataframe thead th {\n",
       "        text-align: right;\n",
       "    }\n",
       "</style>\n",
       "<table border=\"1\" class=\"dataframe\">\n",
       "  <thead>\n",
       "    <tr style=\"text-align: right;\">\n",
       "      <th></th>\n",
       "      <th>feature_name</th>\n",
       "      <th>k_best_scores</th>\n",
       "      <th>k_best_p_values</th>\n",
       "    </tr>\n",
       "  </thead>\n",
       "  <tbody>\n",
       "    <tr>\n",
       "      <th>50</th>\n",
       "      <td>cat__state_Texas</td>\n",
       "      <td>9.546639</td>\n",
       "      <td>0.002026</td>\n",
       "    </tr>\n",
       "    <tr>\n",
       "      <th>51</th>\n",
       "      <td>num__avgDeathsPerYear</td>\n",
       "      <td>9.207014</td>\n",
       "      <td>0.002436</td>\n",
       "    </tr>\n",
       "    <tr>\n",
       "      <th>52</th>\n",
       "      <td>cat__state_Alaska</td>\n",
       "      <td>9.131752</td>\n",
       "      <td>0.002538</td>\n",
       "    </tr>\n",
       "    <tr>\n",
       "      <th>53</th>\n",
       "      <td>cat__state_Alabama</td>\n",
       "      <td>8.316645</td>\n",
       "      <td>0.003963</td>\n",
       "    </tr>\n",
       "    <tr>\n",
       "      <th>54</th>\n",
       "      <td>cat__state_Ohio</td>\n",
       "      <td>7.280008</td>\n",
       "      <td>0.007021</td>\n",
       "    </tr>\n",
       "    <tr>\n",
       "      <th>55</th>\n",
       "      <td>cat__state_Washington</td>\n",
       "      <td>7.114096</td>\n",
       "      <td>0.007699</td>\n",
       "    </tr>\n",
       "    <tr>\n",
       "      <th>56</th>\n",
       "      <td>cat__state_Connecticut</td>\n",
       "      <td>4.698745</td>\n",
       "      <td>0.030281</td>\n",
       "    </tr>\n",
       "    <tr>\n",
       "      <th>57</th>\n",
       "      <td>cat__state_Hawaii</td>\n",
       "      <td>4.314225</td>\n",
       "      <td>0.037900</td>\n",
       "    </tr>\n",
       "    <tr>\n",
       "      <th>58</th>\n",
       "      <td>cat__state_Georgia</td>\n",
       "      <td>4.180291</td>\n",
       "      <td>0.041004</td>\n",
       "    </tr>\n",
       "    <tr>\n",
       "      <th>59</th>\n",
       "      <td>cat__state_Illinois</td>\n",
       "      <td>3.549309</td>\n",
       "      <td>0.059689</td>\n",
       "    </tr>\n",
       "    <tr>\n",
       "      <th>60</th>\n",
       "      <td>cat__state_New York</td>\n",
       "      <td>3.129548</td>\n",
       "      <td>0.077010</td>\n",
       "    </tr>\n",
       "    <tr>\n",
       "      <th>61</th>\n",
       "      <td>cat__state_Oregon</td>\n",
       "      <td>2.969209</td>\n",
       "      <td>0.084990</td>\n",
       "    </tr>\n",
       "    <tr>\n",
       "      <th>62</th>\n",
       "      <td>cat__state_Massachusetts</td>\n",
       "      <td>2.701249</td>\n",
       "      <td>0.100399</td>\n",
       "    </tr>\n",
       "    <tr>\n",
       "      <th>63</th>\n",
       "      <td>cat__state_South Carolina</td>\n",
       "      <td>2.624584</td>\n",
       "      <td>0.105350</td>\n",
       "    </tr>\n",
       "    <tr>\n",
       "      <th>64</th>\n",
       "      <td>cat__state_Wisconsin</td>\n",
       "      <td>2.040156</td>\n",
       "      <td>0.153322</td>\n",
       "    </tr>\n",
       "  </tbody>\n",
       "</table>\n",
       "</div>"
      ],
      "text/plain": [
       "                 feature_name  k_best_scores  k_best_p_values\n",
       "50           cat__state_Texas       9.546639         0.002026\n",
       "51      num__avgDeathsPerYear       9.207014         0.002436\n",
       "52          cat__state_Alaska       9.131752         0.002538\n",
       "53         cat__state_Alabama       8.316645         0.003963\n",
       "54            cat__state_Ohio       7.280008         0.007021\n",
       "55      cat__state_Washington       7.114096         0.007699\n",
       "56     cat__state_Connecticut       4.698745         0.030281\n",
       "57          cat__state_Hawaii       4.314225         0.037900\n",
       "58         cat__state_Georgia       4.180291         0.041004\n",
       "59        cat__state_Illinois       3.549309         0.059689\n",
       "60        cat__state_New York       3.129548         0.077010\n",
       "61          cat__state_Oregon       2.969209         0.084990\n",
       "62   cat__state_Massachusetts       2.701249         0.100399\n",
       "63  cat__state_South Carolina       2.624584         0.105350\n",
       "64       cat__state_Wisconsin       2.040156         0.153322"
      ]
     },
     "execution_count": 31,
     "metadata": {},
     "output_type": "execute_result"
    }
   ],
   "source": [
    "# The top features according to k best\n",
    "k_best = pd.DataFrame({\n",
    "    \"feature_name\": feat_names,\n",
    "    \"k_best_scores\": k_best_scores,\n",
    "    \"k_best_p_values\": k_best_p_values\n",
    "}).sort_values(by='k_best_scores', ascending=False).round(6).reset_index(drop=True)\n",
    "k_best[50:65]"
   ]
  },
  {
   "cell_type": "markdown",
   "id": "7fc18ca0-6775-4fab-aa93-cbab72f1834f",
   "metadata": {},
   "source": [
    "Index 58 is < 0.05\n",
    "i.e\n",
    "The k best scores are statistically significant up to 59 columns(remember zero indexing)"
   ]
  },
  {
   "cell_type": "markdown",
   "id": "f7e1ce5a-85e4-4af1-adfb-e6e33e5c2b26",
   "metadata": {},
   "source": [
    "### Modelling"
   ]
  },
  {
   "cell_type": "markdown",
   "id": "5d22d5b1-df63-432e-b3bc-1d56f0faa969",
   "metadata": {},
   "source": [
    "Regularized models are better. So I wont use plain linear regression"
   ]
  },
  {
   "cell_type": "code",
   "execution_count": 32,
   "id": "30e59a7a-0acd-4576-8e28-2d7525a90680",
   "metadata": {},
   "outputs": [],
   "source": [
    "from sklearn.linear_model import Lasso"
   ]
  },
  {
   "cell_type": "code",
   "execution_count": 34,
   "id": "12d1ee67-7b72-4ab5-947e-f12ac0471acc",
   "metadata": {},
   "outputs": [],
   "source": [
    "# create a pipeline. combine the preprocessing steps and the training step\n",
    "lasso_pipeline = Pipeline([\n",
    "    (\"prep\", preprocessing),\n",
    "    (\"feat_sel\", SelectKBest(score_func=f_regression ,k=59)),\n",
    "    (\"lasso\", Lasso())\n",
    "])"
   ]
  },
  {
   "cell_type": "code",
   "execution_count": 35,
   "id": "d947c9d8-23c8-47f5-af4f-197ae1a00055",
   "metadata": {},
   "outputs": [
    {
     "data": {
      "text/html": [
       "<style>#sk-container-id-2 {color: black;}#sk-container-id-2 pre{padding: 0;}#sk-container-id-2 div.sk-toggleable {background-color: white;}#sk-container-id-2 label.sk-toggleable__label {cursor: pointer;display: block;width: 100%;margin-bottom: 0;padding: 0.3em;box-sizing: border-box;text-align: center;}#sk-container-id-2 label.sk-toggleable__label-arrow:before {content: \"▸\";float: left;margin-right: 0.25em;color: #696969;}#sk-container-id-2 label.sk-toggleable__label-arrow:hover:before {color: black;}#sk-container-id-2 div.sk-estimator:hover label.sk-toggleable__label-arrow:before {color: black;}#sk-container-id-2 div.sk-toggleable__content {max-height: 0;max-width: 0;overflow: hidden;text-align: left;background-color: #f0f8ff;}#sk-container-id-2 div.sk-toggleable__content pre {margin: 0.2em;color: black;border-radius: 0.25em;background-color: #f0f8ff;}#sk-container-id-2 input.sk-toggleable__control:checked~div.sk-toggleable__content {max-height: 200px;max-width: 100%;overflow: auto;}#sk-container-id-2 input.sk-toggleable__control:checked~label.sk-toggleable__label-arrow:before {content: \"▾\";}#sk-container-id-2 div.sk-estimator input.sk-toggleable__control:checked~label.sk-toggleable__label {background-color: #d4ebff;}#sk-container-id-2 div.sk-label input.sk-toggleable__control:checked~label.sk-toggleable__label {background-color: #d4ebff;}#sk-container-id-2 input.sk-hidden--visually {border: 0;clip: rect(1px 1px 1px 1px);clip: rect(1px, 1px, 1px, 1px);height: 1px;margin: -1px;overflow: hidden;padding: 0;position: absolute;width: 1px;}#sk-container-id-2 div.sk-estimator {font-family: monospace;background-color: #f0f8ff;border: 1px dotted black;border-radius: 0.25em;box-sizing: border-box;margin-bottom: 0.5em;}#sk-container-id-2 div.sk-estimator:hover {background-color: #d4ebff;}#sk-container-id-2 div.sk-parallel-item::after {content: \"\";width: 100%;border-bottom: 1px solid gray;flex-grow: 1;}#sk-container-id-2 div.sk-label:hover label.sk-toggleable__label {background-color: #d4ebff;}#sk-container-id-2 div.sk-serial::before {content: \"\";position: absolute;border-left: 1px solid gray;box-sizing: border-box;top: 0;bottom: 0;left: 50%;z-index: 0;}#sk-container-id-2 div.sk-serial {display: flex;flex-direction: column;align-items: center;background-color: white;padding-right: 0.2em;padding-left: 0.2em;position: relative;}#sk-container-id-2 div.sk-item {position: relative;z-index: 1;}#sk-container-id-2 div.sk-parallel {display: flex;align-items: stretch;justify-content: center;background-color: white;position: relative;}#sk-container-id-2 div.sk-item::before, #sk-container-id-2 div.sk-parallel-item::before {content: \"\";position: absolute;border-left: 1px solid gray;box-sizing: border-box;top: 0;bottom: 0;left: 50%;z-index: -1;}#sk-container-id-2 div.sk-parallel-item {display: flex;flex-direction: column;z-index: 1;position: relative;background-color: white;}#sk-container-id-2 div.sk-parallel-item:first-child::after {align-self: flex-end;width: 50%;}#sk-container-id-2 div.sk-parallel-item:last-child::after {align-self: flex-start;width: 50%;}#sk-container-id-2 div.sk-parallel-item:only-child::after {width: 0;}#sk-container-id-2 div.sk-dashed-wrapped {border: 1px dashed gray;margin: 0 0.4em 0.5em 0.4em;box-sizing: border-box;padding-bottom: 0.4em;background-color: white;}#sk-container-id-2 div.sk-label label {font-family: monospace;font-weight: bold;display: inline-block;line-height: 1.2em;}#sk-container-id-2 div.sk-label-container {text-align: center;}#sk-container-id-2 div.sk-container {/* jupyter's `normalize.less` sets `[hidden] { display: none; }` but bootstrap.min.css set `[hidden] { display: none !important; }` so we also need the `!important` here to be able to override the default hidden behavior on the sphinx rendered scikit-learn.org. See: https://github.com/scikit-learn/scikit-learn/issues/21755 */display: inline-block !important;position: relative;}#sk-container-id-2 div.sk-text-repr-fallback {display: none;}</style><div id=\"sk-container-id-2\" class=\"sk-top-container\"><div class=\"sk-text-repr-fallback\"><pre>Pipeline(steps=[(&#x27;prep&#x27;,\n",
       "                 ColumnTransformer(sparse_threshold=0,\n",
       "                                   transformers=[(&#x27;cat&#x27;,\n",
       "                                                  Pipeline(steps=[(&#x27;cat_impute&#x27;,\n",
       "                                                                   SimpleImputer(strategy=&#x27;most_frequent&#x27;)),\n",
       "                                                                  (&#x27;ohe&#x27;,\n",
       "                                                                   OneHotEncoder(handle_unknown=&#x27;ignore&#x27;))]),\n",
       "                                                  Index([&#x27;state&#x27;], dtype=&#x27;object&#x27;)),\n",
       "                                                 (&#x27;num&#x27;,\n",
       "                                                  Pipeline(steps=[(&#x27;num_impute&#x27;,\n",
       "                                                                   SimpleImputer()),\n",
       "                                                                  (&#x27;scaler&#x27;,\n",
       "                                                                   StandardScaler())]),\n",
       "                                                  Index([&#x27;avgAnnCount&#x27;, &#x27;avgDeaths...\n",
       "       &#x27;PctEmployed16_Over&#x27;, &#x27;PctUnemployed16_Over&#x27;, &#x27;PctPrivateCoverage&#x27;,\n",
       "       &#x27;PctPrivateCoverageAlone&#x27;, &#x27;PctEmpPrivCoverage&#x27;, &#x27;PctPublicCoverage&#x27;,\n",
       "       &#x27;PctPublicCoverageAlone&#x27;, &#x27;PctWhite&#x27;, &#x27;PctBlack&#x27;, &#x27;PctAsian&#x27;,\n",
       "       &#x27;PctOtherRace&#x27;, &#x27;PctMarriedHouseholds&#x27;, &#x27;BirthRate&#x27;],\n",
       "      dtype=&#x27;object&#x27;))])),\n",
       "                (&#x27;feat_sel&#x27;,\n",
       "                 SelectKBest(k=59,\n",
       "                             score_func=&lt;function f_regression at 0x7f343e631e10&gt;)),\n",
       "                (&#x27;lasso&#x27;, Lasso())])</pre><b>In a Jupyter environment, please rerun this cell to show the HTML representation or trust the notebook. <br />On GitHub, the HTML representation is unable to render, please try loading this page with nbviewer.org.</b></div><div class=\"sk-container\" hidden><div class=\"sk-item sk-dashed-wrapped\"><div class=\"sk-label-container\"><div class=\"sk-label sk-toggleable\"><input class=\"sk-toggleable__control sk-hidden--visually\" id=\"sk-estimator-id-10\" type=\"checkbox\" ><label for=\"sk-estimator-id-10\" class=\"sk-toggleable__label sk-toggleable__label-arrow\">Pipeline</label><div class=\"sk-toggleable__content\"><pre>Pipeline(steps=[(&#x27;prep&#x27;,\n",
       "                 ColumnTransformer(sparse_threshold=0,\n",
       "                                   transformers=[(&#x27;cat&#x27;,\n",
       "                                                  Pipeline(steps=[(&#x27;cat_impute&#x27;,\n",
       "                                                                   SimpleImputer(strategy=&#x27;most_frequent&#x27;)),\n",
       "                                                                  (&#x27;ohe&#x27;,\n",
       "                                                                   OneHotEncoder(handle_unknown=&#x27;ignore&#x27;))]),\n",
       "                                                  Index([&#x27;state&#x27;], dtype=&#x27;object&#x27;)),\n",
       "                                                 (&#x27;num&#x27;,\n",
       "                                                  Pipeline(steps=[(&#x27;num_impute&#x27;,\n",
       "                                                                   SimpleImputer()),\n",
       "                                                                  (&#x27;scaler&#x27;,\n",
       "                                                                   StandardScaler())]),\n",
       "                                                  Index([&#x27;avgAnnCount&#x27;, &#x27;avgDeaths...\n",
       "       &#x27;PctEmployed16_Over&#x27;, &#x27;PctUnemployed16_Over&#x27;, &#x27;PctPrivateCoverage&#x27;,\n",
       "       &#x27;PctPrivateCoverageAlone&#x27;, &#x27;PctEmpPrivCoverage&#x27;, &#x27;PctPublicCoverage&#x27;,\n",
       "       &#x27;PctPublicCoverageAlone&#x27;, &#x27;PctWhite&#x27;, &#x27;PctBlack&#x27;, &#x27;PctAsian&#x27;,\n",
       "       &#x27;PctOtherRace&#x27;, &#x27;PctMarriedHouseholds&#x27;, &#x27;BirthRate&#x27;],\n",
       "      dtype=&#x27;object&#x27;))])),\n",
       "                (&#x27;feat_sel&#x27;,\n",
       "                 SelectKBest(k=59,\n",
       "                             score_func=&lt;function f_regression at 0x7f343e631e10&gt;)),\n",
       "                (&#x27;lasso&#x27;, Lasso())])</pre></div></div></div><div class=\"sk-serial\"><div class=\"sk-item sk-dashed-wrapped\"><div class=\"sk-label-container\"><div class=\"sk-label sk-toggleable\"><input class=\"sk-toggleable__control sk-hidden--visually\" id=\"sk-estimator-id-11\" type=\"checkbox\" ><label for=\"sk-estimator-id-11\" class=\"sk-toggleable__label sk-toggleable__label-arrow\">prep: ColumnTransformer</label><div class=\"sk-toggleable__content\"><pre>ColumnTransformer(sparse_threshold=0,\n",
       "                  transformers=[(&#x27;cat&#x27;,\n",
       "                                 Pipeline(steps=[(&#x27;cat_impute&#x27;,\n",
       "                                                  SimpleImputer(strategy=&#x27;most_frequent&#x27;)),\n",
       "                                                 (&#x27;ohe&#x27;,\n",
       "                                                  OneHotEncoder(handle_unknown=&#x27;ignore&#x27;))]),\n",
       "                                 Index([&#x27;state&#x27;], dtype=&#x27;object&#x27;)),\n",
       "                                (&#x27;num&#x27;,\n",
       "                                 Pipeline(steps=[(&#x27;num_impute&#x27;,\n",
       "                                                  SimpleImputer()),\n",
       "                                                 (&#x27;scaler&#x27;, StandardScaler())]),\n",
       "                                 Index([&#x27;avgAnnCount&#x27;, &#x27;avgDeathsPerYear&#x27;, &#x27;incidenceRate&#x27;...\n",
       "       &#x27;PercentMarried&#x27;, &#x27;PctNoHS18_24&#x27;, &#x27;PctHS18_24&#x27;, &#x27;PctSomeCol18_24&#x27;,\n",
       "       &#x27;PctBachDeg18_24&#x27;, &#x27;PctHS25_Over&#x27;, &#x27;PctBachDeg25_Over&#x27;,\n",
       "       &#x27;PctEmployed16_Over&#x27;, &#x27;PctUnemployed16_Over&#x27;, &#x27;PctPrivateCoverage&#x27;,\n",
       "       &#x27;PctPrivateCoverageAlone&#x27;, &#x27;PctEmpPrivCoverage&#x27;, &#x27;PctPublicCoverage&#x27;,\n",
       "       &#x27;PctPublicCoverageAlone&#x27;, &#x27;PctWhite&#x27;, &#x27;PctBlack&#x27;, &#x27;PctAsian&#x27;,\n",
       "       &#x27;PctOtherRace&#x27;, &#x27;PctMarriedHouseholds&#x27;, &#x27;BirthRate&#x27;],\n",
       "      dtype=&#x27;object&#x27;))])</pre></div></div></div><div class=\"sk-parallel\"><div class=\"sk-parallel-item\"><div class=\"sk-item\"><div class=\"sk-label-container\"><div class=\"sk-label sk-toggleable\"><input class=\"sk-toggleable__control sk-hidden--visually\" id=\"sk-estimator-id-12\" type=\"checkbox\" ><label for=\"sk-estimator-id-12\" class=\"sk-toggleable__label sk-toggleable__label-arrow\">cat</label><div class=\"sk-toggleable__content\"><pre>Index([&#x27;state&#x27;], dtype=&#x27;object&#x27;)</pre></div></div></div><div class=\"sk-serial\"><div class=\"sk-item\"><div class=\"sk-serial\"><div class=\"sk-item\"><div class=\"sk-estimator sk-toggleable\"><input class=\"sk-toggleable__control sk-hidden--visually\" id=\"sk-estimator-id-13\" type=\"checkbox\" ><label for=\"sk-estimator-id-13\" class=\"sk-toggleable__label sk-toggleable__label-arrow\">SimpleImputer</label><div class=\"sk-toggleable__content\"><pre>SimpleImputer(strategy=&#x27;most_frequent&#x27;)</pre></div></div></div><div class=\"sk-item\"><div class=\"sk-estimator sk-toggleable\"><input class=\"sk-toggleable__control sk-hidden--visually\" id=\"sk-estimator-id-14\" type=\"checkbox\" ><label for=\"sk-estimator-id-14\" class=\"sk-toggleable__label sk-toggleable__label-arrow\">OneHotEncoder</label><div class=\"sk-toggleable__content\"><pre>OneHotEncoder(handle_unknown=&#x27;ignore&#x27;)</pre></div></div></div></div></div></div></div></div><div class=\"sk-parallel-item\"><div class=\"sk-item\"><div class=\"sk-label-container\"><div class=\"sk-label sk-toggleable\"><input class=\"sk-toggleable__control sk-hidden--visually\" id=\"sk-estimator-id-15\" type=\"checkbox\" ><label for=\"sk-estimator-id-15\" class=\"sk-toggleable__label sk-toggleable__label-arrow\">num</label><div class=\"sk-toggleable__content\"><pre>Index([&#x27;avgAnnCount&#x27;, &#x27;avgDeathsPerYear&#x27;, &#x27;incidenceRate&#x27;, &#x27;medIncome&#x27;,\n",
       "       &#x27;popEst2015&#x27;, &#x27;povertyPercent&#x27;, &#x27;studyPerCap&#x27;, &#x27;binnedInc&#x27;, &#x27;MedianAge&#x27;,\n",
       "       &#x27;MedianAgeMale&#x27;, &#x27;MedianAgeFemale&#x27;, &#x27;AvgHouseholdSize&#x27;,\n",
       "       &#x27;PercentMarried&#x27;, &#x27;PctNoHS18_24&#x27;, &#x27;PctHS18_24&#x27;, &#x27;PctSomeCol18_24&#x27;,\n",
       "       &#x27;PctBachDeg18_24&#x27;, &#x27;PctHS25_Over&#x27;, &#x27;PctBachDeg25_Over&#x27;,\n",
       "       &#x27;PctEmployed16_Over&#x27;, &#x27;PctUnemployed16_Over&#x27;, &#x27;PctPrivateCoverage&#x27;,\n",
       "       &#x27;PctPrivateCoverageAlone&#x27;, &#x27;PctEmpPrivCoverage&#x27;, &#x27;PctPublicCoverage&#x27;,\n",
       "       &#x27;PctPublicCoverageAlone&#x27;, &#x27;PctWhite&#x27;, &#x27;PctBlack&#x27;, &#x27;PctAsian&#x27;,\n",
       "       &#x27;PctOtherRace&#x27;, &#x27;PctMarriedHouseholds&#x27;, &#x27;BirthRate&#x27;],\n",
       "      dtype=&#x27;object&#x27;)</pre></div></div></div><div class=\"sk-serial\"><div class=\"sk-item\"><div class=\"sk-serial\"><div class=\"sk-item\"><div class=\"sk-estimator sk-toggleable\"><input class=\"sk-toggleable__control sk-hidden--visually\" id=\"sk-estimator-id-16\" type=\"checkbox\" ><label for=\"sk-estimator-id-16\" class=\"sk-toggleable__label sk-toggleable__label-arrow\">SimpleImputer</label><div class=\"sk-toggleable__content\"><pre>SimpleImputer()</pre></div></div></div><div class=\"sk-item\"><div class=\"sk-estimator sk-toggleable\"><input class=\"sk-toggleable__control sk-hidden--visually\" id=\"sk-estimator-id-17\" type=\"checkbox\" ><label for=\"sk-estimator-id-17\" class=\"sk-toggleable__label sk-toggleable__label-arrow\">StandardScaler</label><div class=\"sk-toggleable__content\"><pre>StandardScaler()</pre></div></div></div></div></div></div></div></div></div></div><div class=\"sk-item\"><div class=\"sk-estimator sk-toggleable\"><input class=\"sk-toggleable__control sk-hidden--visually\" id=\"sk-estimator-id-18\" type=\"checkbox\" ><label for=\"sk-estimator-id-18\" class=\"sk-toggleable__label sk-toggleable__label-arrow\">SelectKBest</label><div class=\"sk-toggleable__content\"><pre>SelectKBest(k=59, score_func=&lt;function f_regression at 0x7f343e631e10&gt;)</pre></div></div></div><div class=\"sk-item\"><div class=\"sk-estimator sk-toggleable\"><input class=\"sk-toggleable__control sk-hidden--visually\" id=\"sk-estimator-id-19\" type=\"checkbox\" ><label for=\"sk-estimator-id-19\" class=\"sk-toggleable__label sk-toggleable__label-arrow\">Lasso</label><div class=\"sk-toggleable__content\"><pre>Lasso()</pre></div></div></div></div></div></div></div>"
      ],
      "text/plain": [
       "Pipeline(steps=[('prep',\n",
       "                 ColumnTransformer(sparse_threshold=0,\n",
       "                                   transformers=[('cat',\n",
       "                                                  Pipeline(steps=[('cat_impute',\n",
       "                                                                   SimpleImputer(strategy='most_frequent')),\n",
       "                                                                  ('ohe',\n",
       "                                                                   OneHotEncoder(handle_unknown='ignore'))]),\n",
       "                                                  Index(['state'], dtype='object')),\n",
       "                                                 ('num',\n",
       "                                                  Pipeline(steps=[('num_impute',\n",
       "                                                                   SimpleImputer()),\n",
       "                                                                  ('scaler',\n",
       "                                                                   StandardScaler())]),\n",
       "                                                  Index(['avgAnnCount', 'avgDeaths...\n",
       "       'PctEmployed16_Over', 'PctUnemployed16_Over', 'PctPrivateCoverage',\n",
       "       'PctPrivateCoverageAlone', 'PctEmpPrivCoverage', 'PctPublicCoverage',\n",
       "       'PctPublicCoverageAlone', 'PctWhite', 'PctBlack', 'PctAsian',\n",
       "       'PctOtherRace', 'PctMarriedHouseholds', 'BirthRate'],\n",
       "      dtype='object'))])),\n",
       "                ('feat_sel',\n",
       "                 SelectKBest(k=59,\n",
       "                             score_func=<function f_regression at 0x7f343e631e10>)),\n",
       "                ('lasso', Lasso())])"
      ]
     },
     "execution_count": 35,
     "metadata": {},
     "output_type": "execute_result"
    }
   ],
   "source": [
    "lasso_pipeline.fit(X_train, y_train)"
   ]
  },
  {
   "cell_type": "markdown",
   "id": "30f3c67e-d83c-4f10-abc8-d82b475f55ed",
   "metadata": {},
   "source": [
    "Next access the normality of the model. \n",
    "\n",
    "The residuals should be normally distributed.  \n",
    "If the errors are not normally distributed then we can conclude that the model has not successfully captured all teh patterns in the data"
   ]
  },
  {
   "cell_type": "code",
   "execution_count": 37,
   "id": "2ab47e23-e693-466d-9752-5cf1da10a3cf",
   "metadata": {},
   "outputs": [],
   "source": [
    "from functions import assess_normality"
   ]
  },
  {
   "cell_type": "code",
   "execution_count": 38,
   "id": "f1213455-8885-4a13-91c6-86a8de605ae5",
   "metadata": {},
   "outputs": [
    {
     "name": "stdout",
     "output_type": "stream",
     "text": [
      "Shapiro-Wilk Test p-value: 1.6586974713131808e-17\n",
      "Kolmogorov-Smirnov Test p-value: 0.0\n",
      "Jarque-Bera Test p-value: 3.694879704977076e-122\n"
     ]
    },
    {
     "data": {
      "image/png": "[encoded data removed]",
      "text/plain": [
       "<Figure size 1200x600 with 2 Axes>"
      ]
     },
     "metadata": {},
     "output_type": "display_data"
    }
   ],
   "source": [
    "assess_normality(y_train, y_train_pred)"
   ]
  },
  {
   "cell_type": "markdown",
   "id": "349e7acf-15a9-408d-a359-121d13a33ed6",
   "metadata": {},
   "source": [
    "The model looks normally distributed but seems to be influenced by outliers\n",
    "This means that there are certain datapoints where the model's predictions deviate signifiacntly from the actual values. \n",
    "\n",
    "The outliers means that the model has some bias i.e it consistently underestimates and overestimates certain types of observations. \n",
    "This could be due to the outlier capping.\n",
    "\n",
    "I also read somewhere that if an important predictor is missing from the model, it may struggle to accurately predict outcomes in certain cases leading to outliers in the residuals. \n",
    "\n",
    "There could also still be some anomalies in the data"
   ]
  },
  {
   "cell_type": "code",
   "execution_count": 39,
   "id": "6f6b147d-79cc-4eef-a141-99798f93d854",
   "metadata": {},
   "outputs": [],
   "source": [
    "from functions import plot_residuals_vs_fitted"
   ]
  },
  {
   "cell_type": "markdown",
   "id": "605b95fd-2b65-4164-b782-ec61b3e99ff0",
   "metadata": {},
   "source": [
    "Let's test the Homoscedasticity assumption, \n",
    "\n",
    "Homoskedaciticity means same_variance. \n",
    "We expect teh error term to be the same across different values of the independent variables.\n",
    "There should be no discernable pattern"
   ]
  },
  {
   "cell_type": "code",
   "execution_count": 40,
   "id": "5c493ca1-dd73-488b-a814-457ac5df9b29",
   "metadata": {},
   "outputs": [
    {
     "data": {
      "image/png": "[encoded data removed]",
      "text/plain": [
       "<Figure size 640x480 with 1 Axes>"
      ]
     },
     "metadata": {},
     "output_type": "display_data"
    }
   ],
   "source": [
    "plot_residuals_vs_fitted(y_train, y_train_pred)"
   ]
  },
  {
   "cell_type": "markdown",
   "id": "409f2826-7c37-4ad0-a535-051542369618",
   "metadata": {},
   "source": [
    "There are some outliers in the residuals. The variance is not the same across different values. "
   ]
  },
  {
   "cell_type": "code",
   "execution_count": null,
   "id": "0b6a18da-c5ff-4e0c-a16d-0fb6c88d88d3",
   "metadata": {},
   "outputs": [],
   "source": [
    "# Get the predictions on the training set\n",
    "y_train_pred = lasso_pipeline.predict(X_train)"
   ]
  },
  {
   "cell_type": "code",
   "execution_count": 41,
   "id": "9e96a91b-4a7d-407f-976c-9708b5330695",
   "metadata": {},
   "outputs": [],
   "source": [
    "from sklearn.metrics import mean_absolute_error, mean_squared_error, r2_score\n",
    "\n",
    "# error metrics for linear regression\n",
    "def error_metrics(y_true, y_pred):\n",
    "    mae = mean_absolute_error(y_true, y_pred)\n",
    "    rmse = mean_squared_error(y_true, y_pred, squared=False)\n",
    "    r2 = r2_score(y_true, y_pred)\n",
    "\n",
    "    print(f\"mae: {mae}\")\n",
    "    print(f\"rmse: {rmse}\")\n",
    "    print(f\"R2 score {rmse}\")"
   ]
  },
  {
   "cell_type": "code",
   "execution_count": 42,
   "id": "79efe090-0b8f-428a-93df-f9353eebfaf6",
   "metadata": {},
   "outputs": [
    {
     "name": "stdout",
     "output_type": "stream",
     "text": [
      "mae: 14.607777737590995\n",
      "rmse: 19.60877682776236\n",
      "R2 score 19.60877682776236\n"
     ]
    }
   ],
   "source": [
    "error_metrics(y_train, y_train_pred)"
   ]
  },
  {
   "cell_type": "markdown",
   "id": "715f5576-5b43-4bfa-a82f-fd5d61eb8d53",
   "metadata": {},
   "source": [
    "The absolute error is 14, teh squared error is 19. \n",
    "The squared error matters more in this context. We need to penalize very large errors\n",
    "\n",
    "The R2 score is 18 meaning that the selected features only account for 18% of the variation in the dependent variable.\n",
    "However it is important to note that R2 tends to increase with each additional feature\n",
    "and adding additional features might be detrimental as each addition might make our model less useful in predicting data it has not seen before"
   ]
  },
  {
   "cell_type": "code",
   "execution_count": 43,
   "id": "a3d32d87-aff4-4587-accd-67ff78cf9432",
   "metadata": {},
   "outputs": [],
   "source": [
    "from functions import mini_describe"
   ]
  },
  {
   "cell_type": "code",
   "execution_count": 44,
   "id": "e6eed267-327a-408f-924b-c1832e8fd09a",
   "metadata": {},
   "outputs": [
    {
     "data": {
      "text/html": [
       "<div>\n",
       "<style scoped>\n",
       "    .dataframe tbody tr th:only-of-type {\n",
       "        vertical-align: middle;\n",
       "    }\n",
       "\n",
       "    .dataframe tbody tr th {\n",
       "        vertical-align: top;\n",
       "    }\n",
       "\n",
       "    .dataframe thead th {\n",
       "        text-align: right;\n",
       "    }\n",
       "</style>\n",
       "<table border=\"1\" class=\"dataframe\">\n",
       "  <thead>\n",
       "    <tr style=\"text-align: right;\">\n",
       "      <th></th>\n",
       "      <th>count</th>\n",
       "      <th>mean</th>\n",
       "      <th>std</th>\n",
       "      <th>min</th>\n",
       "      <th>25%</th>\n",
       "      <th>50%</th>\n",
       "      <th>75%</th>\n",
       "      <th>max</th>\n",
       "      <th>Range</th>\n",
       "      <th>IQR</th>\n",
       "    </tr>\n",
       "  </thead>\n",
       "  <tbody>\n",
       "    <tr>\n",
       "      <th>TARGET_deathRate</th>\n",
       "      <td>2437.0</td>\n",
       "      <td>178.608535</td>\n",
       "      <td>27.533371</td>\n",
       "      <td>59.7</td>\n",
       "      <td>161.7</td>\n",
       "      <td>178.6</td>\n",
       "      <td>195.1</td>\n",
       "      <td>362.8</td>\n",
       "      <td>303.1</td>\n",
       "      <td>33.4</td>\n",
       "    </tr>\n",
       "  </tbody>\n",
       "</table>\n",
       "</div>"
      ],
      "text/plain": [
       "                   count        mean        std   min    25%    50%    75%  \\\n",
       "TARGET_deathRate  2437.0  178.608535  27.533371  59.7  161.7  178.6  195.1   \n",
       "\n",
       "                    max  Range   IQR  \n",
       "TARGET_deathRate  362.8  303.1  33.4  "
      ]
     },
     "execution_count": 44,
     "metadata": {},
     "output_type": "execute_result"
    }
   ],
   "source": [
    "# Get a description of the target varible\n",
    "mini_describe(train, \"TARGET_deathRate\")"
   ]
  },
  {
   "cell_type": "markdown",
   "id": "68a73401-de39-433c-9393-8ac79d145a99",
   "metadata": {},
   "source": [
    "the minimum death rate is 59.7% and our square error is 19. \n",
    "Our model seems to do well"
   ]
  },
  {
   "cell_type": "code",
   "execution_count": 45,
   "id": "2d19f8b7-09c0-4798-acb3-85df5118fbdd",
   "metadata": {},
   "outputs": [],
   "source": [
    "# Get the coefficient and intercept\n",
    "coefficients = lasso_pipeline.named_steps[\"lasso\"].coef_\n",
    "intercept = lasso_pipeline.named_steps['lasso'].intercept_"
   ]
  },
  {
   "cell_type": "code",
   "execution_count": 46,
   "id": "bd05c938-2a36-4f8b-b4a2-ea8f2840682a",
   "metadata": {},
   "outputs": [
    {
     "data": {
      "text/plain": [
       "array([ 0.        ,  0.        , -0.        ,  0.        , -0.        ,\n",
       "       -0.        , -0.        , -0.        , -0.        , -0.        ,\n",
       "        0.        , -0.        , -0.        ,  0.        , -0.        ,\n",
       "       -0.        ,  0.        ,  0.        , -0.        , -0.        ,\n",
       "       -0.        , -0.        ,  0.        ,  0.        , -0.        ,\n",
       "        0.        ,  0.        , -0.        , -0.        ,  0.        ,\n",
       "       -0.        , -0.        ,  0.        , 10.54312725, -0.        ,\n",
       "        0.        ,  1.61320968, -0.        , -1.94771951, -0.12310095,\n",
       "       -0.        ,  1.96723713,  0.        , -0.        ,  1.74319927,\n",
       "       -5.96099502, -0.        ,  0.91511252, -2.2763637 , -0.        ,\n",
       "        0.        , -0.        ,  0.        , -0.        ,  0.70431809,\n",
       "        0.        , -1.28673586, -1.4509196 , -0.23579344])"
      ]
     },
     "execution_count": 46,
     "metadata": {},
     "output_type": "execute_result"
    }
   ],
   "source": [
    "coefficients"
   ]
  },
  {
   "cell_type": "code",
   "execution_count": 47,
   "id": "dc47a241-74f9-4b38-9f33-76b783ad5f21",
   "metadata": {},
   "outputs": [
    {
     "data": {
      "text/plain": [
       "178.60853508411984"
      ]
     },
     "execution_count": 47,
     "metadata": {},
     "output_type": "execute_result"
    }
   ],
   "source": [
    "intercept"
   ]
  },
  {
   "cell_type": "code",
   "execution_count": 48,
   "id": "ad312fe9-6177-485d-b653-7579a28cc886",
   "metadata": {},
   "outputs": [
    {
     "data": {
      "text/plain": [
       "array([ True,  True,  True,  True,  True,  True,  True, False, False,\n",
       "       False])"
      ]
     },
     "execution_count": 48,
     "metadata": {},
     "output_type": "execute_result"
    }
   ],
   "source": [
    "# Get the selected important feature names from k best\n",
    "k_best_support = lasso_pipeline.named_steps['feat_sel'].get_support()\n",
    "k_best_support[:10]"
   ]
  },
  {
   "cell_type": "code",
   "execution_count": 49,
   "id": "23cdadbd-599d-4b6e-862d-b017c584ec27",
   "metadata": {},
   "outputs": [
    {
     "data": {
      "text/plain": [
       "array(['cat__state_Alabama', 'cat__state_Alaska', 'cat__state_Arizona',\n",
       "       'cat__state_Arkansas', 'cat__state_California'], dtype=object)"
      ]
     },
     "execution_count": 49,
     "metadata": {},
     "output_type": "execute_result"
    }
   ],
   "source": [
    "# Get the feature names from the preprocessing pipeline\n",
    "prep_feature_names = lasso_pipeline.named_steps['prep'].get_feature_names_out()\n",
    "prep_feature_names[:5]"
   ]
  },
  {
   "cell_type": "code",
   "execution_count": 50,
   "id": "0ee092f0-e7ff-40b6-b557-aed8eace3470",
   "metadata": {},
   "outputs": [
    {
     "data": {
      "text/plain": [
       "array(['cat__state_Alabama', 'cat__state_Alaska', 'cat__state_Arizona',\n",
       "       'cat__state_Arkansas', 'cat__state_California'], dtype=object)"
      ]
     },
     "execution_count": 50,
     "metadata": {},
     "output_type": "execute_result"
    }
   ],
   "source": [
    "# Get the selected feature names from k best with pandas masking\n",
    "k_best_feature_names = prep_feature_names[k_best_support]\n",
    "k_best_feature_names[:5]"
   ]
  },
  {
   "cell_type": "code",
   "execution_count": 51,
   "id": "d0e986e0-cbe0-49eb-818a-04de0ae57862",
   "metadata": {},
   "outputs": [
    {
     "data": {
      "text/plain": [
       "num__binnedInc             -1.947720\n",
       "num__PctHS18_24             1.967237\n",
       "num__PctPrivateCoverage    -2.276364\n",
       "num__PctBachDeg25_Over     -5.960995\n",
       "num__incidenceRate         10.543127\n",
       "dtype: float64"
      ]
     },
     "execution_count": 51,
     "metadata": {},
     "output_type": "execute_result"
    }
   ],
   "source": [
    "# Feature importances\n",
    "feature_importances = pd.Series(coefficients, index=k_best_feature_names).sort_values(key=abs)\n",
    "feature_importances.tail()"
   ]
  },
  {
   "cell_type": "markdown",
   "id": "9a535d06-075b-42a3-8160-4d3380ccc6d9",
   "metadata": {},
   "source": [
    "Only 13 features are declared important by the model"
   ]
  },
  {
   "cell_type": "code",
   "execution_count": 52,
   "id": "c786e023-02cf-43ec-9e4b-a43e9862a40f",
   "metadata": {},
   "outputs": [
    {
     "data": {
      "image/png": "[encoded data removed]",
      "text/plain": [
       "<Figure size 640x480 with 1 Axes>"
      ]
     },
     "metadata": {},
     "output_type": "display_data"
    }
   ],
   "source": [
    "# Plot the feature importances\n",
    "feature_importances.sort_values(key=abs).tail(20).plot(kind='barh')\n",
    "plt.xlabel(\"Importance\")\n",
    "plt.ylabel(\"Feature\")\n",
    "plt.title(\"Feature importance for cancer death rate\");"
   ]
  },
  {
   "cell_type": "code",
   "execution_count": 53,
   "id": "fdd884c6-cba0-4683-bf42-a171f9460772",
   "metadata": {},
   "outputs": [],
   "source": [
    "# Test the model on the test set\n",
    "test_pred = lasso_pipeline.predict(X_test)"
   ]
  },
  {
   "cell_type": "code",
   "execution_count": 54,
   "id": "91a28097-5de5-4947-aa90-fb09d3697ec7",
   "metadata": {},
   "outputs": [
    {
     "name": "stdout",
     "output_type": "stream",
     "text": [
      "mae: 15.340210644426824\n",
      "rmse: 20.477585546024574\n",
      "R2 score 20.477585546024574\n"
     ]
    }
   ],
   "source": [
    "# Test error\n",
    "error_metrics(y_test, test_pred)"
   ]
  },
  {
   "cell_type": "code",
   "execution_count": 55,
   "id": "5946be3f-a354-467b-b987-7a191d69a331",
   "metadata": {},
   "outputs": [
    {
     "name": "stdout",
     "output_type": "stream",
     "text": [
      "mae: 14.607777737590995\n",
      "rmse: 19.60877682776236\n",
      "R2 score 19.60877682776236\n"
     ]
    }
   ],
   "source": [
    "#Train error\n",
    "error_metrics(y_train, y_train_pred)"
   ]
  },
  {
   "cell_type": "markdown",
   "id": "a3889521-9db8-438d-a7b8-6e91e173415a",
   "metadata": {},
   "source": [
    "The model is robust.\n",
    "\n",
    "However we might need to Try out a non linear model to capture more intricate features in the dataset"
   ]
  },
  {
   "cell_type": "code",
   "execution_count": null,
   "id": "3c9d5913-5e24-4943-ad78-d1e7a8ca5aa8",
   "metadata": {},
   "outputs": [],
   "source": []
  }
 ],
 "metadata": {
  "kernelspec": {
   "display_name": "jupynoteKernel",
   "language": "python",
   "name": "jupynotekernel"
  },
  "language_info": {
   "codemirror_mode": {
    "name": "ipython",
    "version": 3
   },
   "file_extension": ".py",
   "mimetype": "text/x-python",
   "name": "python",
   "nbconvert_exporter": "python",
   "pygments_lexer": "ipython3",
   "version": "3.10.12"
  }
 },
 "nbformat": 4,
 "nbformat_minor": 5
}
